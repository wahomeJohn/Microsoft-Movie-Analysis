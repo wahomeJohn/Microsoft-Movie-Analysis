{
 "cells": [
  {
   "cell_type": "code",
   "execution_count": 1,
   "id": "5ebbf036",
   "metadata": {},
   "outputs": [
    {
     "name": "stdout",
     "output_type": "stream",
     "text": [
      "Requirement already satisfied: pandas in c:\\users\\user pc\\appdata\\local\\programs\\python\\python310\\lib\\site-packages (1.4.3)\n",
      "Requirement already satisfied: pytz>=2020.1 in c:\\users\\user pc\\appdata\\local\\programs\\python\\python310\\lib\\site-packages (from pandas) (2022.2.1)\n",
      "Requirement already satisfied: numpy>=1.21.0 in c:\\users\\user pc\\appdata\\local\\programs\\python\\python310\\lib\\site-packages (from pandas) (1.23.2)\n",
      "Requirement already satisfied: python-dateutil>=2.8.1 in c:\\users\\user pc\\appdata\\local\\programs\\python\\python310\\lib\\site-packages (from pandas) (2.8.2)\n",
      "Requirement already satisfied: six>=1.5 in c:\\users\\user pc\\appdata\\local\\programs\\python\\python310\\lib\\site-packages (from python-dateutil>=2.8.1->pandas) (1.16.0)\n",
      "Note: you may need to restart the kernel to use updated packages.\n"
     ]
    },
    {
     "name": "stderr",
     "output_type": "stream",
     "text": [
      "WARNING: You are using pip version 21.2.4; however, version 22.2.2 is available.\n",
      "You should consider upgrading via the 'C:\\Users\\USER PC\\AppData\\Local\\Programs\\Python\\Python310\\python.exe -m pip install --upgrade pip' command.\n"
     ]
    }
   ],
   "source": [
    "pip install pandas\n"
   ]
  },
  {
   "cell_type": "code",
   "execution_count": 2,
   "id": "7cacf5c9",
   "metadata": {},
   "outputs": [
    {
     "name": "stdout",
     "output_type": "stream",
     "text": [
      "Requirement already satisfied: numpy in c:\\users\\user pc\\appdata\\local\\programs\\python\\python310\\lib\\site-packages (1.23.2)\n",
      "Note: you may need to restart the kernel to use updated packages.\n"
     ]
    },
    {
     "name": "stderr",
     "output_type": "stream",
     "text": [
      "WARNING: You are using pip version 21.2.4; however, version 22.2.2 is available.\n",
      "You should consider upgrading via the 'C:\\Users\\USER PC\\AppData\\Local\\Programs\\Python\\Python310\\python.exe -m pip install --upgrade pip' command.\n"
     ]
    }
   ],
   "source": [
    "pip install numpy"
   ]
  },
  {
   "cell_type": "code",
   "execution_count": 3,
   "id": "d78ceb0b",
   "metadata": {},
   "outputs": [
    {
     "name": "stdout",
     "output_type": "stream",
     "text": [
      "Requirement already satisfied: matplotlib in c:\\users\\user pc\\appdata\\local\\programs\\python\\python310\\lib\\site-packages (3.5.3)\n",
      "Requirement already satisfied: packaging>=20.0 in c:\\users\\user pc\\appdata\\local\\programs\\python\\python310\\lib\\site-packages (from matplotlib) (21.3)\n",
      "Requirement already satisfied: fonttools>=4.22.0 in c:\\users\\user pc\\appdata\\local\\programs\\python\\python310\\lib\\site-packages (from matplotlib) (4.37.1)\n",
      "Requirement already satisfied: python-dateutil>=2.7 in c:\\users\\user pc\\appdata\\local\\programs\\python\\python310\\lib\\site-packages (from matplotlib) (2.8.2)\n",
      "Requirement already satisfied: pillow>=6.2.0 in c:\\users\\user pc\\appdata\\local\\programs\\python\\python310\\lib\\site-packages (from matplotlib) (9.2.0)\n",
      "Requirement already satisfied: pyparsing>=2.2.1 in c:\\users\\user pc\\appdata\\local\\programs\\python\\python310\\lib\\site-packages (from matplotlib) (3.0.9)\n",
      "Requirement already satisfied: kiwisolver>=1.0.1 in c:\\users\\user pc\\appdata\\local\\programs\\python\\python310\\lib\\site-packages (from matplotlib) (1.4.4)\n",
      "Requirement already satisfied: numpy>=1.17 in c:\\users\\user pc\\appdata\\local\\programs\\python\\python310\\lib\\site-packages (from matplotlib) (1.23.2)\n",
      "Requirement already satisfied: cycler>=0.10 in c:\\users\\user pc\\appdata\\local\\programs\\python\\python310\\lib\\site-packages (from matplotlib) (0.11.0)\n",
      "Requirement already satisfied: six>=1.5 in c:\\users\\user pc\\appdata\\local\\programs\\python\\python310\\lib\\site-packages (from python-dateutil>=2.7->matplotlib) (1.16.0)\n",
      "Note: you may need to restart the kernel to use updated packages.\n"
     ]
    },
    {
     "name": "stderr",
     "output_type": "stream",
     "text": [
      "WARNING: You are using pip version 21.2.4; however, version 22.2.2 is available.\n",
      "You should consider upgrading via the 'C:\\Users\\USER PC\\AppData\\Local\\Programs\\Python\\Python310\\python.exe -m pip install --upgrade pip' command.\n"
     ]
    }
   ],
   "source": [
    "pip install matplotlib"
   ]
  },
  {
   "cell_type": "code",
   "execution_count": 4,
   "id": "dbfcaa1e",
   "metadata": {},
   "outputs": [
    {
     "name": "stdout",
     "output_type": "stream",
     "text": [
      "Requirement already satisfied: seaborn in c:\\users\\user pc\\appdata\\local\\programs\\python\\python310\\lib\\site-packages (0.11.2)\n",
      "Requirement already satisfied: scipy>=1.0 in c:\\users\\user pc\\appdata\\local\\programs\\python\\python310\\lib\\site-packages (from seaborn) (1.9.1)\n",
      "Requirement already satisfied: matplotlib>=2.2 in c:\\users\\user pc\\appdata\\local\\programs\\python\\python310\\lib\\site-packages (from seaborn) (3.5.3)\n",
      "Requirement already satisfied: pandas>=0.23 in c:\\users\\user pc\\appdata\\local\\programs\\python\\python310\\lib\\site-packages (from seaborn) (1.4.3)\n",
      "Requirement already satisfied: numpy>=1.15 in c:\\users\\user pc\\appdata\\local\\programs\\python\\python310\\lib\\site-packages (from seaborn) (1.23.2)\n",
      "Requirement already satisfied: fonttools>=4.22.0 in c:\\users\\user pc\\appdata\\local\\programs\\python\\python310\\lib\\site-packages (from matplotlib>=2.2->seaborn) (4.37.1)\n",
      "Requirement already satisfied: kiwisolver>=1.0.1 in c:\\users\\user pc\\appdata\\local\\programs\\python\\python310\\lib\\site-packages (from matplotlib>=2.2->seaborn) (1.4.4)\n",
      "Requirement already satisfied: cycler>=0.10 in c:\\users\\user pc\\appdata\\local\\programs\\python\\python310\\lib\\site-packages (from matplotlib>=2.2->seaborn) (0.11.0)\n",
      "Requirement already satisfied: python-dateutil>=2.7 in c:\\users\\user pc\\appdata\\local\\programs\\python\\python310\\lib\\site-packages (from matplotlib>=2.2->seaborn) (2.8.2)\n",
      "Requirement already satisfied: pyparsing>=2.2.1 in c:\\users\\user pc\\appdata\\local\\programs\\python\\python310\\lib\\site-packages (from matplotlib>=2.2->seaborn) (3.0.9)\n",
      "Requirement already satisfied: pillow>=6.2.0 in c:\\users\\user pc\\appdata\\local\\programs\\python\\python310\\lib\\site-packages (from matplotlib>=2.2->seaborn) (9.2.0)\n",
      "Requirement already satisfied: packaging>=20.0 in c:\\users\\user pc\\appdata\\local\\programs\\python\\python310\\lib\\site-packages (from matplotlib>=2.2->seaborn) (21.3)\n",
      "Requirement already satisfied: pytz>=2020.1 in c:\\users\\user pc\\appdata\\local\\programs\\python\\python310\\lib\\site-packages (from pandas>=0.23->seaborn) (2022.2.1)\n",
      "Requirement already satisfied: six>=1.5 in c:\\users\\user pc\\appdata\\local\\programs\\python\\python310\\lib\\site-packages (from python-dateutil>=2.7->matplotlib>=2.2->seaborn) (1.16.0)\n",
      "Note: you may need to restart the kernel to use updated packages.\n"
     ]
    },
    {
     "name": "stderr",
     "output_type": "stream",
     "text": [
      "WARNING: You are using pip version 21.2.4; however, version 22.2.2 is available.\n",
      "You should consider upgrading via the 'C:\\Users\\USER PC\\AppData\\Local\\Programs\\Python\\Python310\\python.exe -m pip install --upgrade pip' command.\n"
     ]
    }
   ],
   "source": [
    "pip install seaborn"
   ]
  },
  {
   "cell_type": "code",
   "execution_count": null,
   "id": "f00fe948",
   "metadata": {},
   "outputs": [],
   "source": [
    "pip install os"
   ]
  },
  {
   "cell_type": "code",
   "execution_count": null,
   "id": "231d5067",
   "metadata": {},
   "outputs": [],
   "source": [
    "import pandas as pd\n",
    "import numpy as np\n",
    "import matplotlib.pyplot as plt\n",
    "import seaborn as sns\n",
    "import os\n",
    "\n",
    "%matplotlib inline"
   ]
  },
  {
   "cell_type": "markdown",
   "id": "771a5ffb",
   "metadata": {},
   "source": [
    "Data Exploration"
   ]
  },
  {
   "cell_type": "code",
   "execution_count": null,
   "id": "a6e3e9a6",
   "metadata": {},
   "outputs": [],
   "source": [
    "# df_title = pd.read_csv('zippedData/bom.movie_gross.csv.gz')\n",
    "# df_info = pd.read_csv('ZippedData/rt.movie_info.tsv.gz', sep='\\t', header=0)\n",
    "# df_review = pd.read_table('ZippedData/rt.reviews.tsv.gz',encoding='latin-1')\n",
    "# dftmdb = pd.read_csv('ZippedData/tmdb.movies.csv.gz')\n",
    "# df_budget = pd.read_csv('ZippedData/tn.movie_budgets.csv.gz')\n"
   ]
  },
  {
   "cell_type": "code",
   "execution_count": null,
   "id": "bd7700dc",
   "metadata": {},
   "outputs": [],
   "source": [
    "# directory = 'ZippedData/' #all data files stored in 'data/' directory of this notebook\n",
    "# for filename in os.listdir(directory): #iterating over the filenames, read_csv for each file\n",
    "#     print(filename)\n",
    "#     exact_filename = directory + filename\n",
    "    \n",
    "#     #adding specific cases for files that need more read_csv parameters \n",
    "#     if filename == 'rt.movie_info.tsv.gz':\n",
    "#         temp_df = pd.read_csv(exact_filename, sep='\\t', header=0)\n",
    "#     elif filename == 'rt.reviews.tsv.gz':\n",
    "#          temp_df = pd.read_csv(exact_filename, sep='\\t', header=0, encoding='latin-1')\n",
    "#     else:\n",
    "#         temp_df = pd.read_csv(exact_filename)\n",
    "\n",
    "#     #display(temp_df.info())\n",
    "#     display(temp_df.head())\n",
    "#     print('\\n')"
   ]
  },
  {
   "cell_type": "code",
   "execution_count": null,
   "id": "fdcb7f45",
   "metadata": {},
   "outputs": [],
   "source": [
    "# df_1 = pd.read_csv('zippedData/bom.movie_gross.csv.gz')\n",
    "# df_2 = pd.read_csv('zippedData/imdb.name.basics.csv.gz')\n",
    "# df_3 = pd.read_csv('zippedData/imdb.title.akas.csv.gz')\n",
    "df_titles = pd.read_csv('zippedData/imdb.title.basics.csv.gz')\n",
    "# df_5 = pd.read_csv('zippedData/imdb.title.crew.csv.gz')\n",
    "# df_6 = pd.read_csv('zippedData/imdb.title.principals.csv.gz')\n",
    "df_rating = pd.read_csv('zippedData/imdb.title.ratings.csv.gz')\n",
    "# df_8 = pd.read_csv('zippedData/rt.movie_info.tsv.gz', sep='\\t', header=0)\n",
    "# df_9 = pd.read_csv('zippedData/rt.reviews.tsv.gz',sep='\\t', header=0, encoding='latin-1')\n",
    "# df_10 = pd.read_csv('zippedData/tmdb.movies.csv.gz')\n",
    "df_budget = pd.read_csv('zippedData/tn.movie_budgets.csv.gz')"
   ]
  },
  {
   "cell_type": "code",
   "execution_count": null,
   "id": "eddc3bf4",
   "metadata": {},
   "outputs": [],
   "source": [
    "df_titles.head()"
   ]
  },
  {
   "cell_type": "code",
   "execution_count": null,
   "id": "204ab64c",
   "metadata": {},
   "outputs": [],
   "source": [
    "df_titles.describe()"
   ]
  },
  {
   "cell_type": "code",
   "execution_count": null,
   "id": "2c0de8e3",
   "metadata": {},
   "outputs": [],
   "source": [
    "df_titles.info()"
   ]
  },
  {
   "cell_type": "code",
   "execution_count": null,
   "id": "411f3bce",
   "metadata": {},
   "outputs": [],
   "source": [
    "df_rating.head()"
   ]
  },
  {
   "cell_type": "code",
   "execution_count": null,
   "id": "895336b9",
   "metadata": {},
   "outputs": [],
   "source": [
    "df_rating.describe()"
   ]
  },
  {
   "cell_type": "code",
   "execution_count": null,
   "id": "d95e8ffe",
   "metadata": {},
   "outputs": [],
   "source": [
    "df_rating.info()"
   ]
  },
  {
   "cell_type": "code",
   "execution_count": null,
   "id": "171b11f5",
   "metadata": {},
   "outputs": [],
   "source": [
    "df_budget.head()"
   ]
  },
  {
   "cell_type": "code",
   "execution_count": null,
   "id": "713dcfd7",
   "metadata": {},
   "outputs": [],
   "source": [
    "df_budget.describe()"
   ]
  },
  {
   "cell_type": "code",
   "execution_count": null,
   "id": "1965a1a3",
   "metadata": {},
   "outputs": [],
   "source": [
    "df_budget.info()"
   ]
  },
  {
   "cell_type": "markdown",
   "id": "8ff47697",
   "metadata": {},
   "source": [
    "data Preparation"
   ]
  },
  {
   "cell_type": "code",
   "execution_count": null,
   "id": "773dc3a4",
   "metadata": {},
   "outputs": [],
   "source": [
    "#convert the monetary columns in df_budget into floats\n",
    "my_col =['production_budget','domestic_gross','worldwide_gross']\n",
    "for i in my_col:\n",
    "    df_budget[i]=df_budget[i].str.replace('$','')\\\n",
    "                                .str.replace(',','')\\\n",
    "                                .astype(float)\n",
    " \n",
    "                               \n",
    "#convert release_date to date\n",
    "df_budget['release_date']=pd.to_datetime(df_budget['release_date'])\n",
    "df_budget"
   ]
  },
  {
   "cell_type": "code",
   "execution_count": null,
   "id": "9767cac0",
   "metadata": {},
   "outputs": [],
   "source": [
    "#Adding profit and profit-margin cols\n",
    "df_budget['worldwide_profit'] = df_budget['production_budget']-df_budget['worldwide_gross']\n",
    "df_budget['worldwide_margin'] = df_budget['worldwide_profit']/df_budget['worldwide_gross']\n",
    "\n",
    "#add year col\n",
    "df_budget['year']=df_budget['release_date'].dt.year\n",
    "df_budget"
   ]
  },
  {
   "cell_type": "code",
   "execution_count": null,
   "id": "5c7db504",
   "metadata": {},
   "outputs": [],
   "source": [
    "# making sure no flaot error in genre column\n",
    "df_titles['genres'] = df_titles['genres'].astype(str)"
   ]
  },
  {
   "cell_type": "code",
   "execution_count": null,
   "id": "a5b8531c",
   "metadata": {},
   "outputs": [],
   "source": [
    "def make_genre_columns(dataframe, genre_col_name='genres', drop_genres_col=True):\n",
    "    '''Creates a new Dataframe of Column for each genres from the genres column.\n",
    "    Input:\n",
    "        dataframe: Original DataFrame\n",
    "        genres_col_name : Name of column of genres (Values look like \"Action, Adventure\")\n",
    "        drop_genres_col : Flag to drop the original genres column\n",
    "    Returns:\n",
    "        A copy of the original DataFrame with a column for each genres from column\n",
    "    '''\n",
    "    ## get list of unique genres\n",
    "    # Join all the (unique) genres Values into one big string\n",
    "    list_all_genres = ','.join(dataframe[genre_col_name].unique())\n",
    "    # Get a set of all unique genres (no duplicates)\n",
    "    unique_genres = set(list_all_genres.split(','))\n",
    "    ##create new columns with the genres & populate with 0 & 1\n",
    "    # Make a safe copy\n",
    "    new_dataframe = dataframe.copy(deep = True)\n",
    "    for genre in unique_genres:\n",
    "        new_dataframe[genre] = new_dataframe[genre_col_name].map(lambda x: 1 if genre in x else 0)\n",
    "    #drop the unused 'genre_col_name' column\n",
    "    if drop_genres_col:\n",
    "        new_dataframe = new_dataframe.drop([genre_col_name], axis =1)\n",
    "    return new_dataframe"
   ]
  },
  {
   "cell_type": "code",
   "execution_count": null,
   "id": "d9a0da81",
   "metadata": {},
   "outputs": [],
   "source": [
    "# Run df_titles through make_genre_columns funtion\n",
    "df_titles_new = make_genre_columns(df_titles)\n",
    "df_titles_new.head()\n"
   ]
  },
  {
   "cell_type": "code",
   "execution_count": null,
   "id": "9c4e0afb",
   "metadata": {},
   "outputs": [],
   "source": [
    "#create a  unique list all genres\n",
    "list_all_genres = ','.join(df_titles[\n",
    "    'genres'\n",
    "].unique())\n",
    "unique_genres = list(set(list_all_genres.split(',')))\n",
    "print(unique_genres)"
   ]
  },
  {
   "cell_type": "code",
   "execution_count": null,
   "id": "cb20dfa6",
   "metadata": {},
   "outputs": [],
   "source": [
    "#merge of df_titles_new with df_ratings\n",
    "df_imbd = df_titles_new.merge(df_rating, left_on ='tconst', right_on ='tconst')\n",
    "df_imbd.head()"
   ]
  },
  {
   "cell_type": "code",
   "execution_count": null,
   "id": "92175d02",
   "metadata": {},
   "outputs": [],
   "source": [
    "#merge df_budget with df_imbd\n",
    "df_imbd_budget =df_budget.merge(df_imbd, left_on= ['movie','year'],right_on= ['primary_title','start_year'], how =\"inner\")\n",
    "df_imbd_budget.head()"
   ]
  },
  {
   "cell_type": "code",
   "execution_count": null,
   "id": "ba835563",
   "metadata": {},
   "outputs": [],
   "source": [
    "df_imbd.count()"
   ]
  },
  {
   "cell_type": "code",
   "execution_count": null,
   "id": "7a78d3cf",
   "metadata": {},
   "outputs": [],
   "source": [
    "df_imbd_budget.count()"
   ]
  },
  {
   "cell_type": "code",
   "execution_count": null,
   "id": "7eeeac51",
   "metadata": {},
   "outputs": [],
   "source": [
    "df_budget.count()"
   ]
  },
  {
   "cell_type": "code",
   "execution_count": null,
   "id": "d7b75a70",
   "metadata": {},
   "outputs": [],
   "source": [
    "#number of records lost in the merge\n",
    "5782-1498"
   ]
  },
  {
   "cell_type": "code",
   "execution_count": null,
   "id": "f8212b0e",
   "metadata": {},
   "outputs": [],
   "source": [
    "#percentage of records lost in the merge\n",
    "(5782-1498)/5782"
   ]
  },
  {
   "cell_type": "markdown",
   "id": "e558bd6e",
   "metadata": {},
   "source": [
    "Data Analysis\n",
    "Analysis Goals:\n",
    "    Avg rating by genre\n",
    "    avg# of reviews by genre\n",
    "    profit by genre\n",
    "    profit margin by genre\n",
    "    "
   ]
  },
  {
   "cell_type": "code",
   "execution_count": null,
   "id": "12097a29",
   "metadata": {},
   "outputs": [],
   "source": [
    "#create a df with statistics grouped by genre for percent of titles and rating\n",
    "column_names = ['genre','mean_rating','count_titles','avg_num_votes','avg_runtime','avg_year']\n",
    "my_dict = {}\n",
    "i = 0\n",
    "for genre in unique_genres:\n",
    "    df_genre = df_imbd[df_imbd[genre] == 1]\n",
    "    m = df_genre['averagerating'].mean()\n",
    "    c = df_genre['tconst'].count()\n",
    "    d = df_genre['numvotes'].mean()\n",
    "    t = df_genre['runtime_minutes'].mean()\n",
    "    y = df_genre['start_year'].mean()\n",
    "    \n",
    "    my_dict[i] = [genre, m,c,d,t,y]\n",
    "    i = i + 1\n",
    "    \n",
    "print(my_dict)\n",
    "df_summary = pd.DataFrame.from_dict(my_dict, orient ='index', columns = column_names)"
   ]
  },
  {
   "cell_type": "code",
   "execution_count": null,
   "id": "6bac25b1",
   "metadata": {},
   "outputs": [],
   "source": [
    "#add percent_titles column\n",
    "df_summary['percent_titles']= 1.0*df_summary['count_titles']/df_summary['count_titles'].sum()"
   ]
  },
  {
   "cell_type": "code",
   "execution_count": null,
   "id": "112ca675",
   "metadata": {
    "scrolled": true
   },
   "outputs": [],
   "source": [
    "df_summary"
   ]
  },
  {
   "cell_type": "code",
   "execution_count": null,
   "id": "59b2e8f8",
   "metadata": {},
   "outputs": [],
   "source": [
    "#create a graph visualization of percent of titles by genre\n",
    "df_graph = df_summary.sort_values(by=['percent_title'], ascending = False)\n",
    "plt.figure(figsize=(8,4))\n",
    "sns.barplot(data=df_graph, x='genre',y='percent_titles', color =\"grey\", saturation = .3)\n",
    "plt.title('Percent of Titles by Genre', fontsize=18)\n",
    "plt.xlabel('genre', fontsize=16)\n",
    "plt.ylabel('Percent of titles', fontsize=16)\n",
    "plt.xticks(fontsize=14)\n",
    "plt.yticks(fontsize=12)\n",
    "plt.xticks(rotation=90)"
   ]
  },
  {
   "cell_type": "code",
   "execution_count": null,
   "id": "1de2cbb7",
   "metadata": {},
   "outputs": [],
   "source": [
    "#create the visualization of movie rating per genre\n",
    "df_graph = df_summary.sort_values(by=['mean_rating'], ascending = False)\n",
    "plt.figure(figsize=(8,4))\n",
    "sns.barplot(data=df_graph, x='genre',y='mean_rating', color =\"grey\", saturation = .3)\n",
    "plt.title('movie rating per genre', fontsize=18)\n",
    "plt.xlabel('genre', fontsize=16)\n",
    "plt.ylabel('Percent of titles', fontsize=16)\n",
    "plt.xticks(fontsize=14)\n",
    "plt.yticks(fontsize=12)\n",
    "plt.xticks(rotation=90)"
   ]
  },
  {
   "cell_type": "code",
   "execution_count": null,
   "id": "96ae5470",
   "metadata": {},
   "outputs": [],
   "source": [
    "# Create a df with summary statistics grouped by genre for buget, profit, and imbd data\n",
    "column_names_2 = ['genre','count_of_titles','avg_year','avg_runtime_minutes','avg_rating','median_production_budget','median_worldwide_profit','median_worldwide_profit_margin']\n",
    "\n",
    "my_dict_2 = {}\n",
    "i = 0\n",
    "for genre in unique_genres:\n",
    "    df_genre = df_imbd_budget[df_imbd_budget[genre] == 1]\n",
    "    \n",
    "    my_dict_2[i] =[genre,\n",
    "                   df_genre['primary_title'].count(),\n",
    "                   df_genre['start_year'].mean(),\n",
    "                   df_genre['runtime_minutes'].mean(),\n",
    "                   df_genre['averagerating'].mean(),\n",
    "                   df_genre['production_budget'].median(),\n",
    "                   df_genre['worldwide_profit'].median(),\n",
    "                   df_genre['worldwide_margin'].median()\n",
    "        \n",
    "                    ]\n",
    "\n",
    "    i = i +1\n",
    "print(my_dict_2)\n",
    "df_summary_2 = pd.DataFrame.from_dict(my_dict_2, orient ='index', columns = column_names_2)"
   ]
  },
  {
   "cell_type": "code",
   "execution_count": null,
   "id": "e5a75bf6",
   "metadata": {},
   "outputs": [],
   "source": [
    "# Add percent_titles column\n",
    "df_summary_2['percent_titles'] =1.0*df_summary_2['count_of_titles']/df_summary_2['count_of_titles'].sum()"
   ]
  },
  {
   "cell_type": "code",
   "execution_count": null,
   "id": "c82f3228",
   "metadata": {},
   "outputs": [],
   "source": [
    "df_summary_2"
   ]
  },
  {
   "cell_type": "code",
   "execution_count": null,
   "id": "bf12b8a7",
   "metadata": {},
   "outputs": [],
   "source": [
    "#profit per genre\n",
    "df_graph = df_summary_2.sort_values(by=['median_worldwide_profit'],ascending = False)\n",
    "sns.barplot(data = df_graph, x=\"genre\", y=\"median_worldwide_profit\", color = 'grey', saturation =.3)\n",
    "plt.title('Profit per Genre', fontsize=18)\n",
    "plt.ylabel('Median Worldwide Profit', fontsize=16)\n",
    "plt.xlabel('Genre', fontsize=16)\n",
    "plt.xticks(fontsize=14)\n",
    "plt.yticks(fontsize=12)\n",
    "plt.xtricks(rotation=90);"
   ]
  },
  {
   "cell_type": "code",
   "execution_count": null,
   "id": "697b9f4b",
   "metadata": {},
   "outputs": [],
   "source": [
    "#create visualization for profit margin per genre\n",
    "df_graph =df_summary_2.sort_values(by=['median_worldwide_profit_margin'],ascending = False)\n",
    "sns.barplot(data=df_graph, x=\"genre\", y=\"median_worldwide_profit_margin\", color = 'grey', saturation =.4)\n",
    "plt.title('profit margin per genre', fontsize= 16)\n",
    "plt.ylabel('median world profit margin', fontsize=16)\n",
    "plt.xlabel ('Genre',fontsize=16)\n",
    "plt.xticks(fontsize=14)\n",
    "plt.yticks(fontsize=12)\n",
    "plt.xticks(rotation=-90);"
   ]
  },
  {
   "cell_type": "code",
   "execution_count": null,
   "id": "1f9b7988",
   "metadata": {},
   "outputs": [],
   "source": [
    "#visualize profit per average genre rating\n",
    "df_graph= df_summary_2.sort_values(by=['avg_rating'], ascending = False)\n",
    "sns.scatterplot(data=df_graph, x =\"avg_rating\",y=\"median_worldwide_profit\")\n",
    "plt.title('profit per rating', fontsize=18)\n",
    "plt.ylabel('median worldwide profit', fontsize=16)\n",
    "plt.xlabel('Average rating',fontsize=16)\n",
    "plt.xticks(fontsize=14)\n",
    "plt.yticks(fontsize=12)\n",
    "plt.xtricks(rotation= -90);"
   ]
  },
  {
   "cell_type": "code",
   "execution_count": null,
   "id": "1d021aa6",
   "metadata": {},
   "outputs": [],
   "source": [
    "#Visualize profit margin vs average genre rating\n",
    "df_graph= df_summary_2.sort_values(by=['avg_rating'], ascending = False)\n",
    "sns.scatterplot(data=df_graph, x =\"avg_rating\",y=\"median_worldwide_profit_margin\")\n",
    "plt.title('profit margin  per rating', fontsize=18)\n",
    "plt.ylabel('median worldwide profit margin', fontsize=16)\n",
    "plt.xlabel('Average rating',fontsize=16)\n",
    "plt.xticks(fontsize=14)\n",
    "plt.yticks(fontsize=12)\n",
    "plt.xtricks(rotation= -90);"
   ]
  },
  {
   "cell_type": "code",
   "execution_count": null,
   "id": "2c415af2",
   "metadata": {},
   "outputs": [],
   "source": [
    "#create scatter visualization for rating vs profit to further visualize correlation\n",
    "plt.figure(figsize =(9,6))\n",
    "plt.title('rating to profit', fontsize=14)\n",
    "plt.ylabel('Avg Rating', fontsize=12)\n",
    "plt.xlabel('median worldwide profit',fontsize=12)\n",
    "plt.xticks(fontsize=14)\n",
    "sns.scatterplot(data=df_imdb_budget[(df_imbd_budget['worldwide_profit']>100000000)&\n",
    "                                   (df_imbd_budget['worldwide_profit']>1000000000)],x=\"worldwide_profit\", y=\"averagerating\")"
   ]
  },
  {
   "cell_type": "code",
   "execution_count": null,
   "id": "094d7fb6",
   "metadata": {},
   "outputs": [],
   "source": [
    "#additional look at correlation - average rating vs profit. There doesn't appear to be any correlation\n",
    "sns.scatterplot(data=df_summary_2, x=\"avg_rating\", y=\"median_worldwide_profit\")"
   ]
  },
  {
   "cell_type": "code",
   "execution_count": null,
   "id": "f524c62f",
   "metadata": {},
   "outputs": [],
   "source": [
    "#create a visualization to show avg rating profit and genre togther\n",
    "plt.figure(figsize=(9,6))\n",
    "plt.title('Avg Rating vs Profit', fontsize=15)\n",
    "plt.ylabel('median wolrdwide profit', fontsize=14)\n",
    "plt.xlabel('Avg Rating', fontsize=14)\n",
    "plt.xticks(fontsize=14)\n",
    "sns.scatterplot(data=df_summary_2[df_summary_2['count_of_titles']>100], x=\"avg_rating\", y=\"median_worldwide_profit\",hue = 'genre')"
   ]
  },
  {
   "cell_type": "code",
   "execution_count": null,
   "id": "05ba40dc",
   "metadata": {},
   "outputs": [],
   "source": [
    "#create visualization to show avg profit margin and genre together\n",
    "plt.figure(figsize=(9,6))\n",
    "plt.title('Avg Rating vs Profit Margin', fontsize=15)\n",
    "plt.ylabel('median worldwide profit margin', fontsize=14)\n",
    "plt.xlabel('Avg Ratings', fontsize = 14)\n",
    "plt.xticks(fontsize=14)\n",
    "sns.scatterplot(data=df_summary_2[df_summary_2['count_of_titles']>100], x=\"avg_rating\", y=\"median_worldwide_profit_margin\", hue ='genre')"
   ]
  },
  {
   "cell_type": "code",
   "execution_count": null,
   "id": "4b613302",
   "metadata": {},
   "outputs": [],
   "source": []
  }
 ],
 "metadata": {
  "kernelspec": {
   "display_name": "Python 3 (ipykernel)",
   "language": "python",
   "name": "python3"
  },
  "language_info": {
   "codemirror_mode": {
    "name": "ipython",
    "version": 3
   },
   "file_extension": ".py",
   "mimetype": "text/x-python",
   "name": "python",
   "nbconvert_exporter": "python",
   "pygments_lexer": "ipython3",
   "version": "3.10.1"
  }
 },
 "nbformat": 4,
 "nbformat_minor": 5
}
